{
  "nbformat": 4,
  "nbformat_minor": 0,
  "metadata": {
    "colab": {
      "name": "BostonHousingPriceRegressionEX.ipynb",
      "provenance": [],
      "authorship_tag": "ABX9TyPuhIq5bhyQbUcnucGR9Pz7",
      "include_colab_link": true
    },
    "kernelspec": {
      "name": "python3",
      "display_name": "Python 3"
    }
  },
  "cells": [
    {
      "cell_type": "markdown",
      "metadata": {
        "id": "view-in-github",
        "colab_type": "text"
      },
      "source": [
        "<a href=\"https://colab.research.google.com/github/S413/KerasExamples/blob/main/BostonHousingPriceRegressionEX.ipynb\" target=\"_parent\"><img src=\"https://colab.research.google.com/assets/colab-badge.svg\" alt=\"Open In Colab\"/></a>"
      ]
    },
    {
      "cell_type": "code",
      "metadata": {
        "id": "vuJ9-gVSXBvD"
      },
      "source": [
        "from keras.datasets import boston_housing"
      ],
      "execution_count": 1,
      "outputs": []
    },
    {
      "cell_type": "code",
      "metadata": {
        "id": "bN4JWgQVYS4N"
      },
      "source": [
        "(train_data, train_targets), (test_data, test_targets) = boston_housing.load_data()"
      ],
      "execution_count": 2,
      "outputs": []
    },
    {
      "cell_type": "code",
      "metadata": {
        "colab": {
          "base_uri": "https://localhost:8080/"
        },
        "id": "_V3Znv6sYgfn",
        "outputId": "7703026f-7cc5-45d3-a450-9927f182a5da"
      },
      "source": [
        "train_data.shape"
      ],
      "execution_count": 3,
      "outputs": [
        {
          "output_type": "execute_result",
          "data": {
            "text/plain": [
              "(404, 13)"
            ]
          },
          "metadata": {
            "tags": []
          },
          "execution_count": 3
        }
      ]
    },
    {
      "cell_type": "code",
      "metadata": {
        "colab": {
          "base_uri": "https://localhost:8080/"
        },
        "id": "YoQhw2arYjmn",
        "outputId": "27c2d911-800b-42c4-faaa-74a8ea76326f"
      },
      "source": [
        "type(train_data)"
      ],
      "execution_count": 4,
      "outputs": [
        {
          "output_type": "execute_result",
          "data": {
            "text/plain": [
              "numpy.ndarray"
            ]
          },
          "metadata": {
            "tags": []
          },
          "execution_count": 4
        }
      ]
    },
    {
      "cell_type": "code",
      "metadata": {
        "colab": {
          "base_uri": "https://localhost:8080/"
        },
        "id": "XF1_s19kYoGM",
        "outputId": "66d3b9e4-e6d3-4dae-ad72-0b752e80aab7"
      },
      "source": [
        "train_data[0]"
      ],
      "execution_count": 5,
      "outputs": [
        {
          "output_type": "execute_result",
          "data": {
            "text/plain": [
              "array([  1.23247,   0.     ,   8.14   ,   0.     ,   0.538  ,   6.142  ,\n",
              "        91.7    ,   3.9769 ,   4.     , 307.     ,  21.     , 396.9    ,\n",
              "        18.72   ])"
            ]
          },
          "metadata": {
            "tags": []
          },
          "execution_count": 5
        }
      ]
    },
    {
      "cell_type": "code",
      "metadata": {
        "colab": {
          "base_uri": "https://localhost:8080/"
        },
        "id": "fEsU8c0rYqZe",
        "outputId": "b8c17c53-b174-4620-c41d-cbd7d77bf3bc"
      },
      "source": [
        "train_targets[0]"
      ],
      "execution_count": 6,
      "outputs": [
        {
          "output_type": "execute_result",
          "data": {
            "text/plain": [
              "15.2"
            ]
          },
          "metadata": {
            "tags": []
          },
          "execution_count": 6
        }
      ]
    },
    {
      "cell_type": "code",
      "metadata": {
        "colab": {
          "base_uri": "https://localhost:8080/"
        },
        "id": "YUzCRrLqY2OV",
        "outputId": "ee17fb85-3514-48fd-970e-7884b635066e"
      },
      "source": [
        "train_targets.shape"
      ],
      "execution_count": 7,
      "outputs": [
        {
          "output_type": "execute_result",
          "data": {
            "text/plain": [
              "(404,)"
            ]
          },
          "metadata": {
            "tags": []
          },
          "execution_count": 7
        }
      ]
    },
    {
      "cell_type": "markdown",
      "metadata": {
        "id": "8q1Tisc-Zg_6"
      },
      "source": [
        "It would be a problem to feed the NN the data as is because everything has different scales. Let's to feature-wise normalization, otherwise known to me as standarization. Subtract the mean and divide by the standard deviation for each feature of the input matrix."
      ]
    },
    {
      "cell_type": "code",
      "metadata": {
        "id": "Ixf4gzZyY4U9"
      },
      "source": [
        "mean = train_data.mean(axis=0)\n",
        "train_data -= mean\n",
        "std = train_data.std(axis=0)\n",
        "train_data /= std\n",
        "\n",
        "test_data -= mean\n",
        "test_data /= std"
      ],
      "execution_count": 8,
      "outputs": []
    },
    {
      "cell_type": "markdown",
      "metadata": {
        "id": "WQ0jYEJZaloi"
      },
      "source": [
        "The author used the mean and std of the training set on the test set. He asserts that we should never obtain values from test set. That's surprising to me."
      ]
    },
    {
      "cell_type": "code",
      "metadata": {
        "id": "rmXa9wfMak6e"
      },
      "source": [
        "from keras import models\n",
        "from keras import layers"
      ],
      "execution_count": 9,
      "outputs": []
    },
    {
      "cell_type": "code",
      "metadata": {
        "id": "T6KxUoHIbMC0"
      },
      "source": [
        "def build_model():\n",
        "  model = models.Sequential()\n",
        "  model.add(layers.Dense(64, activation='relu', input_shape=(train_data.shape[1], )))\n",
        "  model.add(layers.Dense(64, activation='relu'))\n",
        "  model.compile(optimizer='rmsprop', loss='mse', metrics=['mae'])\n",
        "  return model"
      ],
      "execution_count": 10,
      "outputs": []
    },
    {
      "cell_type": "markdown",
      "metadata": {
        "id": "J8Dhc-Snfb4K"
      },
      "source": [
        "This time around our data points are few. Validation set would be too small and the results would vary too greatly depending on the validation set's variance. What we can do in this instance is use K-fold Validation."
      ]
    },
    {
      "cell_type": "markdown",
      "metadata": {
        "id": "vS-CytJtfusn"
      },
      "source": [
        "1. Divide the training set into K partitions (usually 4 or 5).\n",
        "2. Instantiate K models.\n",
        "3. Each model trains on K-1 partitions and evaluates on the remaining partition\n",
        "4. Validation score = avg of all K validation scores"
      ]
    },
    {
      "cell_type": "code",
      "metadata": {
        "id": "Tv4FB15acydo"
      },
      "source": [
        "import numpy as np"
      ],
      "execution_count": 11,
      "outputs": []
    },
    {
      "cell_type": "code",
      "metadata": {
        "id": "F528pJvngfZg"
      },
      "source": [
        "k = 4\n",
        "num_vals_samples = len(train_data) // k\n",
        "num_epochs = 100\n",
        "all_scores = []"
      ],
      "execution_count": 12,
      "outputs": []
    },
    {
      "cell_type": "code",
      "metadata": {
        "colab": {
          "base_uri": "https://localhost:8080/"
        },
        "id": "LomuntYRg72J",
        "outputId": "489f39ce-b8bd-4eab-fbdc-4187a13fbab3"
      },
      "source": [
        "for i in range (k):\n",
        "  print('Processing fold {}\\n'.format(i))\n",
        "  val_data = train_data[i * num_vals_samples: (i + 1) * num_vals_samples]\n",
        "  val_targets = train_targets[i * num_vals_samples: (i + 1) * num_vals_samples]\n",
        "\n",
        "  partial_train_data = np.concatenate([train_data[:i * num_vals_samples], train_data[(i + 1) * num_vals_samples:]], axis=0)\n",
        "  partial_train_targets = np.concatenate([train_targets[:i * num_vals_samples], train_targets[(i + 1) * num_vals_samples:]], axis = 0)\n",
        "\n",
        "  model = build_model()\n",
        "\n",
        "  model.fit(partial_train_data, partial_train_targets, epochs=num_epochs, batch_size=1, verbose=0)\n",
        "  val_mse, val_mae = model.evaluate(val_data, val_targets, verbose=0)\n",
        "  all_scores.append(val_mae)"
      ],
      "execution_count": 13,
      "outputs": [
        {
          "output_type": "stream",
          "text": [
            "Processing fold 0\n",
            "\n",
            "Processing fold 1\n",
            "\n",
            "Processing fold 2\n",
            "\n",
            "Processing fold 3\n",
            "\n"
          ],
          "name": "stdout"
        }
      ]
    },
    {
      "cell_type": "code",
      "metadata": {
        "colab": {
          "base_uri": "https://localhost:8080/"
        },
        "id": "20IRXtN5j8Xw",
        "outputId": "0ca13f32-9f73-4569-8b92-d1847629fb44"
      },
      "source": [
        "all_scores"
      ],
      "execution_count": 14,
      "outputs": [
        {
          "output_type": "execute_result",
          "data": {
            "text/plain": [
              "[1.8758890628814697, 2.409372091293335, 2.499647378921509, 2.5309009552001953]"
            ]
          },
          "metadata": {
            "tags": []
          },
          "execution_count": 14
        }
      ]
    },
    {
      "cell_type": "code",
      "metadata": {
        "colab": {
          "base_uri": "https://localhost:8080/"
        },
        "id": "Fxi8-jE7mEd5",
        "outputId": "95c01a15-07bd-4eca-c38a-6b95ae59c5c7"
      },
      "source": [
        "np.mean(all_scores)"
      ],
      "execution_count": 15,
      "outputs": [
        {
          "output_type": "execute_result",
          "data": {
            "text/plain": [
              "2.328952372074127"
            ]
          },
          "metadata": {
            "tags": []
          },
          "execution_count": 15
        }
      ]
    },
    {
      "cell_type": "code",
      "metadata": {
        "colab": {
          "base_uri": "https://localhost:8080/"
        },
        "id": "sCX85I1emJJg",
        "outputId": "0faebc58-ffb3-4a74-e7e6-14ae10c98321"
      },
      "source": [
        "num_vals_samples"
      ],
      "execution_count": 16,
      "outputs": [
        {
          "output_type": "execute_result",
          "data": {
            "text/plain": [
              "101"
            ]
          },
          "metadata": {
            "tags": []
          },
          "execution_count": 16
        }
      ]
    },
    {
      "cell_type": "markdown",
      "metadata": {
        "id": "-sujwDVmhxzA"
      },
      "source": [
        "Let's try with more epochs."
      ]
    },
    {
      "cell_type": "code",
      "metadata": {
        "id": "rEBqN4FImK2q",
        "colab": {
          "base_uri": "https://localhost:8080/"
        },
        "outputId": "3589156b-c20f-4812-d420-2a8197e842f9"
      },
      "source": [
        "num_epochs = 500\n",
        "all_mae_histories = []\n",
        "for i in range(k):\n",
        "  print('Processing fold {}\\n'.format(i))\n",
        "  \n",
        "  val_data = train_data[i * num_vals_samples: (i + 1) * num_vals_samples]\n",
        "  val_targets = train_targets[i * num_vals_samples : (i + 1) * num_vals_samples]\n",
        "\n",
        "  partial_train_data = np.concatenate([train_data[: i * num_vals_samples], train_data[(i + 1) * num_vals_samples:]], axis=0)\n",
        "  partial_train_targets = np.concatenate([train_targets[: i * num_vals_samples], train_targets[(i + 1) * num_vals_samples:]], axis=0)\n",
        "\n",
        "  model2 = build_model()\n",
        "\n",
        "  history = model2.fit(partial_train_data, partial_train_targets, epochs=num_epochs, validation_data=(val_data, val_targets), batch_size=1, verbose=0)\n",
        "\n",
        "  mae_history = history.history['val_mae']\n",
        "  all_mae_histories.append(mae_history)\n"
      ],
      "execution_count": 17,
      "outputs": [
        {
          "output_type": "stream",
          "text": [
            "Processing fold 0\n",
            "\n",
            "Processing fold 1\n",
            "\n",
            "Processing fold 2\n",
            "\n",
            "Processing fold 3\n",
            "\n"
          ],
          "name": "stdout"
        }
      ]
    },
    {
      "cell_type": "code",
      "metadata": {
        "colab": {
          "base_uri": "https://localhost:8080/"
        },
        "id": "pmALByFhp89a",
        "outputId": "f7013c83-a174-4716-9fa4-0512d7f0d482"
      },
      "source": [
        "len(all_mae_histories[0])"
      ],
      "execution_count": 18,
      "outputs": [
        {
          "output_type": "execute_result",
          "data": {
            "text/plain": [
              "500"
            ]
          },
          "metadata": {
            "tags": []
          },
          "execution_count": 18
        }
      ]
    },
    {
      "cell_type": "code",
      "metadata": {
        "id": "BnUK0xgVqDm4"
      },
      "source": [
        "avg_mae_history = [np.mean([x[i] for x in all_mae_histories]) for i in range (num_epochs)]"
      ],
      "execution_count": 19,
      "outputs": []
    },
    {
      "cell_type": "code",
      "metadata": {
        "colab": {
          "base_uri": "https://localhost:8080/"
        },
        "id": "TpH1GmTfrBQ-",
        "outputId": "22c7c2e6-b84d-4a9f-e5b1-4f2f7d3c5af2"
      },
      "source": [
        "len(avg_mae_history)"
      ],
      "execution_count": 20,
      "outputs": [
        {
          "output_type": "execute_result",
          "data": {
            "text/plain": [
              "500"
            ]
          },
          "metadata": {
            "tags": []
          },
          "execution_count": 20
        }
      ]
    },
    {
      "cell_type": "code",
      "metadata": {
        "id": "TLuBFa2crE1K"
      },
      "source": [
        "import matplotlib.pyplot as plt"
      ],
      "execution_count": 21,
      "outputs": []
    },
    {
      "cell_type": "code",
      "metadata": {
        "colab": {
          "base_uri": "https://localhost:8080/",
          "height": 279
        },
        "id": "SLoAsXLWr_36",
        "outputId": "a6433ee8-d260-4f49-b363-cf79894d4a4f"
      },
      "source": [
        "plt.plot(range(1, len(avg_mae_history) + 1), avg_mae_history)\n",
        "plt.xlabel('Epochs')\n",
        "plt.ylabel('Validation MAE')\n",
        "plt.show()"
      ],
      "execution_count": 22,
      "outputs": [
        {
          "output_type": "display_data",
          "data": {
            "image/png": "[encoded data removed]",
            "text/plain": [
              "<Figure size 432x288 with 1 Axes>"
            ]
          },
          "metadata": {
            "tags": [],
            "needs_background": "light"
          }
        }
      ]
    },
    {
      "cell_type": "markdown",
      "metadata": {
        "id": "RzNPdDh5twSy"
      },
      "source": [
        "Pretty much unreadable. Let's:\n",
        "1. Omit first 10 data points\n",
        "2. Replace each point with an exponential moving average of the previous points to obtain a smooth curve (what?)"
      ]
    },
    {
      "cell_type": "code",
      "metadata": {
        "id": "BkGUQH1gts-O"
      },
      "source": [
        "def smooth_curve(points, factor=0.9):\n",
        "  smoothed_points = []\n",
        "\n",
        "  for point in points:\n",
        "    if smoothed_points:\n",
        "      previous = smoothed_points[-1]\n",
        "      smoothed_points.append(previous * factor + point * (1 - factor))\n",
        "    else:\n",
        "      smoothed_points.append(point)\n",
        "  \n",
        "  return smoothed_points"
      ],
      "execution_count": 23,
      "outputs": []
    },
    {
      "cell_type": "code",
      "metadata": {
        "id": "aqh5Ateguqfm"
      },
      "source": [
        "smooth_mae_history = smooth_curve(avg_mae_history[10:])"
      ],
      "execution_count": 24,
      "outputs": []
    },
    {
      "cell_type": "code",
      "metadata": {
        "colab": {
          "base_uri": "https://localhost:8080/",
          "height": 279
        },
        "id": "-bLEXYXdvP-Y",
        "outputId": "b5a06be5-5703-454f-f0a9-e5df3c1fba57"
      },
      "source": [
        "plt.plot(range(1, len(smooth_mae_history) + 1), smooth_mae_history)\n",
        "plt.xlabel('Epochs')\n",
        "plt.ylabel('Validation MAE')\n",
        "plt.show()"
      ],
      "execution_count": 25,
      "outputs": [
        {
          "output_type": "display_data",
          "data": {
            "image/png": "[encoded data removed]",
            "text/plain": [
              "<Figure size 432x288 with 1 Axes>"
            ]
          },
          "metadata": {
            "tags": [],
            "needs_background": "light"
          }
        }
      ]
    },
    {
      "cell_type": "code",
      "metadata": {
        "colab": {
          "base_uri": "https://localhost:8080/"
        },
        "id": "CPnmFfHNvqg_",
        "outputId": "1df8f49c-44c2-4ab8-fb57-88177d11b508"
      },
      "source": [
        "model3 = build_model()\n",
        "\n",
        "model3.fit(train_data, train_targets, epochs=130, batch_size=16, verbose=0)\n",
        "\n",
        "test_mse_score, test_mae_score = model3.evaluate(test_data, test_targets) "
      ],
      "execution_count": 30,
      "outputs": [
        {
          "output_type": "stream",
          "text": [
            "4/4 [==============================] - 0s 2ms/step - loss: 20.6719 - mae: 2.8840\n"
          ],
          "name": "stdout"
        }
      ]
    },
    {
      "cell_type": "code",
      "metadata": {
        "colab": {
          "base_uri": "https://localhost:8080/"
        },
        "id": "W1ptaQD5xJ_B",
        "outputId": "f7bfe5a1-54a3-49ea-a465-83eb6da09cdb"
      },
      "source": [
        "test_mae_score"
      ],
      "execution_count": 31,
      "outputs": [
        {
          "output_type": "execute_result",
          "data": {
            "text/plain": [
              "2.884040117263794"
            ]
          },
          "metadata": {
            "tags": []
          },
          "execution_count": 31
        }
      ]
    },
    {
      "cell_type": "code",
      "metadata": {
        "id": "5nDiSF-m0KYR"
      },
      "source": [
        ""
      ],
      "execution_count": null,
      "outputs": []
    }
  ]
}